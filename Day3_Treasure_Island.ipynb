{
  "nbformat": 4,
  "nbformat_minor": 0,
  "metadata": {
    "colab": {
      "provenance": [],
      "authorship_tag": "ABX9TyNgaIMQoIxruyGH8PIms+La",
      "include_colab_link": true
    },
    "kernelspec": {
      "name": "python3",
      "display_name": "Python 3"
    },
    "language_info": {
      "name": "python"
    }
  },
  "cells": [
    {
      "cell_type": "markdown",
      "metadata": {
        "id": "view-in-github",
        "colab_type": "text"
      },
      "source": [
        "<a href=\"https://colab.research.google.com/github/dammmie-beep/100_Days_of_Python/blob/main/Day3_Treasure_Island.ipynb\" target=\"_parent\"><img src=\"https://colab.research.google.com/assets/colab-badge.svg\" alt=\"Open In Colab\"/></a>"
      ]
    },
    {
      "cell_type": "markdown",
      "source": [
        "## TREASURE ISLAND GAME\n",
        "\n",
        "This excercise test your ability to you the if-else statement and nested ifs"
      ],
      "metadata": {
        "id": "hnGprTAta4Rz"
      }
    },
    {
      "cell_type": "code",
      "source": [],
      "metadata": {
        "id": "URe0JGLVXLLA"
      },
      "execution_count": null,
      "outputs": []
    },
    {
      "cell_type": "code",
      "execution_count": 6,
      "metadata": {
        "colab": {
          "base_uri": "https://localhost:8080/"
        },
        "id": "5bK2ysWLU8cz",
        "outputId": "520791ac-ed4f-4968-e9c0-8c47764cdd61"
      },
      "outputs": [
        {
          "output_type": "stream",
          "name": "stdout",
          "text": [
            "Welcome to the Treasure Island. Your mission is to find the treasure.\n",
            "You are at the crossroad. Type left or right to move left\n",
            "You just moved away from danger. To move forward type swim or wait wait\n",
            "There are three door. One Red, one Yellow and One blue. Choose one to move red\n",
            "Burned by fire.Game Over.\n"
          ]
        }
      ],
      "source": [
        "print(\"Welcome to the Treasure Island. Your mission is to find the treasure.\")\n",
        "step1 = (input(\"You are at the crossroad. Type left or right to move \")).lower()\n",
        "\n",
        "if step1 == 'left':\n",
        "  step2 = (input(\"You just moved away from danger. To move forward type swim or wait \")).lower()\n",
        "  if step2 == \"wait\":\n",
        "    step3 = (input(\"There are three door. One Red, one Yellow and One blue. Choose one to move \")).lower()\n",
        "    if step3 == \"blue\":\n",
        "      print(\"Eaten by beasts.Game Over!\")\n",
        "    elif step3 ==\"red\":\n",
        "      print(\"Burned by fire.Game Over.\")\n",
        "    else:\n",
        "      print(\"Congratulations. You win!\")\n",
        "  else:\n",
        "    print(\"Attacked by a Shark. Game Over!\")\n",
        "else:\n",
        "  print(\"You moved right into the danger house. Game Over!\")\n",
        ""
      ]
    }
  ]
}