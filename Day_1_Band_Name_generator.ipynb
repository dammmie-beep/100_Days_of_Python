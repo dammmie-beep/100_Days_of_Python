{
  "nbformat": 4,
  "nbformat_minor": 0,
  "metadata": {
    "colab": {
      "provenance": [],
      "authorship_tag": "ABX9TyN8L3XhrE2tbiyL2ra31aXX",
      "include_colab_link": true
    },
    "kernelspec": {
      "name": "python3",
      "display_name": "Python 3"
    },
    "language_info": {
      "name": "python"
    }
  },
  "cells": [
    {
      "cell_type": "markdown",
      "metadata": {
        "id": "view-in-github",
        "colab_type": "text"
      },
      "source": [
        "<a href=\"https://colab.research.google.com/github/dammmie-beep/100_Days_of_Python/blob/main/Day_1_Band_Name_generator.ipynb\" target=\"_parent\"><img src=\"https://colab.research.google.com/assets/colab-badge.svg\" alt=\"Open In Colab\"/></a>"
      ]
    },
    {
      "cell_type": "code",
      "execution_count": 2,
      "metadata": {
        "colab": {
          "base_uri": "https://localhost:8080/"
        },
        "id": "L9YTXsO1EG7i",
        "outputId": "297870cc-9ea5-4530-97b8-5eab0db8c76b"
      },
      "outputs": [
        {
          "output_type": "stream",
          "name": "stdout",
          "text": [
            "Welcome to the Band Name Generator\n",
            "What city did you grow up? Lagos\n",
            "What is your pet name? Jack\n",
            "Your band name could be Lagos Jack\n"
          ]
        }
      ],
      "source": [
        "# create the program name\n",
        "print(\"Welcome to the Band Name Generator\")\n",
        "#Ask user for the city they grew up\n",
        "\n",
        "city = input(\"What city did you grow up? \")\n",
        "\n",
        "#Ask the user their pet name\n",
        "pet_name = input('What is your pet name? ')\n",
        "\n",
        "#combine city name and pet name to form the band name\n",
        "print(\"Your band name could be \" + city + \" \" + pet_name)\n"
      ]
    },
    {
      "cell_type": "code",
      "source": [],
      "metadata": {
        "id": "chR2lg_LH6Wm"
      },
      "execution_count": null,
      "outputs": []
    }
  ]
}