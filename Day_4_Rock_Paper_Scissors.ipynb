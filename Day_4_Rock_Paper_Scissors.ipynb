{
  "nbformat": 4,
  "nbformat_minor": 0,
  "metadata": {
    "colab": {
      "provenance": [],
      "authorship_tag": "ABX9TyPG+v05RXJUBCzCbrNkP3XO",
      "include_colab_link": true
    },
    "kernelspec": {
      "name": "python3",
      "display_name": "Python 3"
    },
    "language_info": {
      "name": "python"
    }
  },
  "cells": [
    {
      "cell_type": "markdown",
      "metadata": {
        "id": "view-in-github",
        "colab_type": "text"
      },
      "source": [
        "<a href=\"https://colab.research.google.com/github/dammmie-beep/100_Days_of_Python/blob/main/Day_4_Rock_Paper_Scissors.ipynb\" target=\"_parent\"><img src=\"https://colab.research.google.com/assets/colab-badge.svg\" alt=\"Open In Colab\"/></a>"
      ]
    },
    {
      "cell_type": "markdown",
      "source": [
        "### ROCK PAPER AND SCISSORS\n",
        "\n",
        "The Basic Rules of RPS\n",
        "\n",
        "Despite its underlying complexity, the game’s rules are straightforward. Players deliver hand signals representing rock, paper, or scissors, with the outcome determined by these three rules:\n",
        "\n",
        "Rock wins against scissors.\n",
        "\n",
        "Scissors win against paper.\n",
        "\n",
        "Paper wins against rock.\n",
        "[ref](https://wrpsa.com/the-official-rules-of-rock-paper-scissors/)"
      ],
      "metadata": {
        "id": "49T78u_i4oHl"
      }
    },
    {
      "cell_type": "code",
      "execution_count": 9,
      "metadata": {
        "id": "vZOtMuDH4aLb"
      },
      "outputs": [],
      "source": [
        "rock = '''\n",
        "    _______\n",
        "---'   ____)\n",
        "      (_____)\n",
        "      (_____)\n",
        "      (____)\n",
        "---.__(___)\n",
        "'''\n",
        "\n",
        "paper = '''\n",
        "    _______\n",
        "---'   ____)____\n",
        "          ______)\n",
        "          _______)\n",
        "         _______)\n",
        "---.__________)\n",
        "'''\n",
        "\n",
        "scissors = '''\n",
        "    _______\n",
        "---'   ____)____\n",
        "          ______)\n",
        "       __________)\n",
        "      (____)\n",
        "---.__(___)\n",
        "'''"
      ]
    },
    {
      "cell_type": "code",
      "source": [
        "import random\n",
        "\n",
        "# Take input from a user\n",
        "human = int(input(\"What do you choose. Enter 0 for Rock, 1 for Paper and 2 for Scissors \"))\n",
        "\n",
        "# make  the computer randomly choose a number between 0 and 2\n",
        "computer = random.randint(0,2)\n",
        "\n",
        "# print out images representing each thing\n",
        "images=[rock, paper, scissors]\n",
        "\n",
        "print(f\"\\nYou chose {images[human]},   \\n computer chose {images[computer]}.\\n\")\n",
        "\n",
        "# write a conditional statement that captures the game rule\n",
        "if human == computer :\n",
        "  print((f\"Both players selected {human}. It's a tie!\"))\n",
        "\n",
        "elif human == 0:\n",
        "  if computer == 2:\n",
        "    print(\"Rock smashes scissors! You win!\")\n",
        "  else:\n",
        "    print(\"Paper covers the rock! You lose\")\n",
        "\n",
        "elif human == 2:\n",
        "  if computer == 1:\n",
        "    print(\"Scissors cuts paper! You win\")\n",
        "  else:\n",
        "    print(\"Rock smashes scissors! You lose\")\n",
        "\n",
        "elif human == 1:\n",
        "  if computer == 0:\n",
        "    print(\"Paper covers the rock! You win\")\n",
        "  else:\n",
        "    print(\"Scissors cuts paper! You loose\")\n",
        "else:\n",
        "  print(\"The number you chose is out of range\")\n",
        "\n"
      ],
      "metadata": {
        "colab": {
          "base_uri": "https://localhost:8080/"
        },
        "id": "IN9qvfjB4m9z",
        "outputId": "5cf5ec93-64be-45e7-d09d-fe515f1123c9"
      },
      "execution_count": 21,
      "outputs": [
        {
          "output_type": "stream",
          "name": "stdout",
          "text": [
            "What do you choose. Enter 0 for Rock, 1 for Paper and 2 for Scissors 1\n",
            "\n",
            "You chose \n",
            "    _______\n",
            "---'   ____)____\n",
            "          ______)\n",
            "          _______)\n",
            "         _______)\n",
            "---.__________)\n",
            ",   \n",
            " computer chose \n",
            "    _______\n",
            "---'   ____)____\n",
            "          ______)\n",
            "       __________)\n",
            "      (____)\n",
            "---.__(___)\n",
            ".\n",
            "\n",
            "Scissors cust paper! You loose\n"
          ]
        }
      ]
    },
    {
      "cell_type": "code",
      "source": [
        "\n"
      ],
      "metadata": {
        "id": "TWzUQksE_Lxj"
      },
      "execution_count": 16,
      "outputs": []
    },
    {
      "cell_type": "code",
      "source": [],
      "metadata": {
        "id": "eDPsx_8MCH1S"
      },
      "execution_count": null,
      "outputs": []
    }
  ]
}