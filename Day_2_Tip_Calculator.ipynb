{
  "nbformat": 4,
  "nbformat_minor": 0,
  "metadata": {
    "colab": {
      "provenance": [],
      "authorship_tag": "ABX9TyPNYoZFuBvak6L4LH7DGF+5",
      "include_colab_link": true
    },
    "kernelspec": {
      "name": "python3",
      "display_name": "Python 3"
    },
    "language_info": {
      "name": "python"
    }
  },
  "cells": [
    {
      "cell_type": "markdown",
      "metadata": {
        "id": "view-in-github",
        "colab_type": "text"
      },
      "source": [
        "<a href=\"https://colab.research.google.com/github/dammmie-beep/100_Days_of_Python/blob/main/Day_2_Tip_Calculator.ipynb\" target=\"_parent\"><img src=\"https://colab.research.google.com/assets/colab-badge.svg\" alt=\"Open In Colab\"/></a>"
      ]
    },
    {
      "cell_type": "code",
      "execution_count": 4,
      "metadata": {
        "colab": {
          "base_uri": "https://localhost:8080/"
        },
        "id": "qMgkqgLPv299",
        "outputId": "fb6d17ca-55f0-4020-8489-2a97f008f562"
      },
      "outputs": [
        {
          "output_type": "stream",
          "name": "stdout",
          "text": [
            "Welcome to the Tip Calculator\n",
            "What is the total bill? $23.57\n",
            "What percentage will you like tto give? 10,12,15? 13\n",
            "How many people should split the bill? 3\n",
            "Each person should pay: $8.88\n"
          ]
        }
      ],
      "source": [
        "# Print the welcome note\n",
        "print('Welcome to the Tip Calculator')\n",
        "\n",
        "# request for the total bill\n",
        "total_bill = float(input('What is the total bill? $'))\n",
        "\n",
        "# request for the total percentage\n",
        "tip = int(input('What percentage will you like tto give? 10,12,15? '))\n",
        "\n",
        "percent_tip = 1 + (tip/100)\n",
        "\n",
        "#request for number of people to split the bill\n",
        "number_of_people = int(input('How many people should split the bill? '))\n",
        "\n",
        "bill_per_person = (total_bill/number_of_people)*percent_tip\n",
        "\n",
        "# print the final output\n",
        "print(f'Each person should pay: ${round(bill_per_person,2)}')"
      ]
    },
    {
      "cell_type": "code",
      "source": [],
      "metadata": {
        "id": "a_Z7e1Pr0jrs"
      },
      "execution_count": null,
      "outputs": []
    }
  ]
}